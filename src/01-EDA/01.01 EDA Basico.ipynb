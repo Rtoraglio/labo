{
 "cells": [
  {
   "cell_type": "markdown",
   "metadata": {},
   "source": [
    "# 01.01 EDA y Modelo Inicial\n",
    "Este programa muestra como cargar un archivo, hacer un mínimo tratamiento y exploración de datos. Plantea algunas reglas de clasificación básica y evalúa los resultados."
   ]
  },
  {
   "cell_type": "code",
   "execution_count": null,
   "metadata": {
    "vscode": {
     "languageId": "r"
    }
   },
   "outputs": [],
   "source": [
    "#Se limpia la memoria\n",
    "rm(list=ls())\n",
    "gc()"
   ]
  },
  {
   "cell_type": "code",
   "execution_count": null,
   "metadata": {
    "vscode": {
     "languageId": "r"
    }
   },
   "outputs": [],
   "source": [
    "#La librería data table permite manejar grandes volumenes de datos en memoria\n",
    "library(\"data.table\")\n",
    "\n",
    "#Contiene funciones para evaluar performance de la clasificación\n",
    "library(\"ROCR\")\n",
    "\n",
    "#Permite generar graficos y visualizaciones\n",
    "library(ggplot2)"
   ]
  },
  {
   "cell_type": "code",
   "execution_count": null,
   "metadata": {
    "vscode": {
     "languageId": "r"
    }
   },
   "outputs": [],
   "source": [
    "setwd(\"/Users/rosariotoraglio/Desktop/MaestriaCienciadeDatos/Laboratorio1/clase1/\")\n",
    "\n",
    "\n",
    "#Parametros entrada\n",
    "\n",
    "#kcarpeta_datasets    <- \"../input/laboratorio-de-implementacion-i-2021/\"   #KAGGLE\n",
    "kcarpeta_datasets    <- \"./datasets/\"                          #VM o Ubuntu\n",
    "\n",
    "#Archivo con datos etiquetados para entrenamiento\n",
    "karchivo_entrada      <-  paste0(kcarpeta_datasets, \"competencia1_2022.csv\")\n",
    "\n",
    "#Separador de campos en archivos\n",
    "kcampos_separador     <-  \"\\t\"\n",
    "\n",
    "#Campo que identifica las muestras\n",
    "kcampo_id             <-  \"numero_de_cliente\"\n",
    "\n",
    "#Campo que contiene la clase a estimar\n",
    "kclase_nomcampo       <-  \"clase_ternaria\"\n",
    "\n",
    "#Valor de interés\n",
    "kclase_valor_positivo <-  \"BAJA+2\"\n",
    "\n",
    "#Campos a borrar para el entrenamiento\n",
    "kcampos_a_borrar      <-  c(kcampo_id,kclase_nomcampo,\"foto_mes\")\n",
    "\n",
    "#Campo que contendrá a la variable objetivo generada\n",
    "kobjetivo             <-  \"clase\"\n",
    "\n",
    "#Identificación del modelo\n",
    "kmodelo               <-  \"01-EDA\"\n",
    "\n",
    "#Ganancia por TP\n",
    "kTPGain               <-  78000\n",
    "\n",
    "#Pérdida por FP\n",
    "kFPGain               <-  -2000\n"
   ]
  },
  {
   "cell_type": "markdown",
   "metadata": {},
   "source": [
    "## Lectura y manejo básico de datos"
   ]
  },
  {
   "cell_type": "code",
   "execution_count": null,
   "metadata": {
    "vscode": {
     "languageId": "r"
    }
   },
   "outputs": [],
   "source": [
    "#Lectura de archivo de en un data frame\n",
    "dataset <- fread(karchivo_entrada)"
   ]
  },
  {
   "cell_type": "markdown",
   "metadata": {},
   "source": [
    "### Estadísticas básicas del dataset"
   ]
  },
  {
   "cell_type": "code",
   "execution_count": null,
   "metadata": {
    "vscode": {
     "languageId": "r"
    }
   },
   "outputs": [],
   "source": [
    "summary(dataset[,1:10]) #Primeras 10 columnas"
   ]
  },
  {
   "cell_type": "code",
   "execution_count": null,
   "metadata": {
    "vscode": {
     "languageId": "r"
    }
   },
   "outputs": [],
   "source": [
    "#El universo agrupado por  clase_ternaria\n",
    "ftable(dataset$clase_ternaria)"
   ]
  },
  {
   "cell_type": "code",
   "execution_count": null,
   "metadata": {
    "vscode": {
     "languageId": "r"
    }
   },
   "outputs": [],
   "source": [
    "ftable(dataset[,c('foto_mes','clase_ternaria')])"
   ]
  },
  {
   "cell_type": "code",
   "execution_count": null,
   "metadata": {
    "vscode": {
     "languageId": "r"
    }
   },
   "outputs": [],
   "source": [
    "dtrain = dataset[ foto_mes==202101]\n",
    "dapply = dataset[ foto_mes==202103]\n",
    "\n"
   ]
  },
  {
   "cell_type": "markdown",
   "metadata": {},
   "source": [
    "# Selección de datos\n",
    "Los data frames pueden filtrarse especificando entre corchetes las filas y columnas [filas,columnas]. Las formas de especificar mas usadas son:\n",
    "- Índice numérico, por ejemplo, *1:10* indica del elemento 1 al 10 (inclusive)\n",
    "- Nombre o lista de nombres, por ejemplo, *campo*\n",
    "- Lista de valores Verdadero/Falso. Es utilizadon con condiciones del tipo *columna == valor*\n"
   ]
  },
  {
   "cell_type": "code",
   "execution_count": null,
   "metadata": {
    "vscode": {
     "languageId": "r"
    }
   },
   "outputs": [],
   "source": [
    "#Seleccionar 3 primeras filas y campos indicados. La función c() genera una lista de valores\n",
    "dtrain[1:3,c(\"Master_mconsumototal\",\"clase_ternaria\")]"
   ]
  },
  {
   "cell_type": "code",
   "execution_count": null,
   "metadata": {
    "vscode": {
     "languageId": "r"
    }
   },
   "outputs": [],
   "source": [
    "dtrain[1:5,c(1:5,155)]"
   ]
  },
  {
   "cell_type": "code",
   "execution_count": null,
   "metadata": {
    "vscode": {
     "languageId": "r"
    }
   },
   "outputs": [],
   "source": [
    "#Seleccion por un campo indirecto. kclase_nomcampo es una variable que tiene el nombre del campo. \n",
    "dtrain[1:3,..kclase_nomcampo]"
   ]
  },
  {
   "cell_type": "markdown",
   "metadata": {},
   "source": [
    "Para seleccionar en base a una condicion se arma una lista con Verdadero/Falso actuando como flitro de línea. La siguiente lista adopata el valor Verdadero para las líneas BAJA+2"
   ]
  },
  {
   "cell_type": "code",
   "execution_count": null,
   "metadata": {
    "vscode": {
     "languageId": "r"
    }
   },
   "outputs": [],
   "source": [
    "c(dtrain[,..kclase_nomcampo] == kclase_valor_positivo)"
   ]
  },
  {
   "cell_type": "markdown",
   "metadata": {},
   "source": [
    "Pasando el filtro como condición de línea al data frame se pueden seleccionar solo las que cumplen con la condición"
   ]
  },
  {
   "cell_type": "code",
   "execution_count": null,
   "metadata": {
    "vscode": {
     "languageId": "r"
    }
   },
   "outputs": [],
   "source": [
    "dtrain[c(dtrain[,..kclase_nomcampo] == kclase_valor_positivo),][1:10]"
   ]
  },
  {
   "cell_type": "markdown",
   "metadata": {},
   "source": [
    "### Modificación de datos\n",
    "\n",
    "Puedo asignar valores a una columna del data frame con el operador := En este caso la referencia indirecta debe hacerse entre paréntesis"
   ]
  },
  {
   "cell_type": "code",
   "execution_count": null,
   "metadata": {
    "vscode": {
     "languageId": "r"
    }
   },
   "outputs": [],
   "source": [
    "#Creo una columna con valor constante\n",
    "dtrain[,(kobjetivo) := 0]\n",
    "#dtrain[  , clase:= 0 ]   Es lo mismo! kobjetivo se definio igual al string \"clase\""
   ]
  },
  {
   "cell_type": "markdown",
   "metadata": {},
   "source": [
    "Asigno 1 en caso de BAJA+2 y 0 para cualquier otro valor."
   ]
  },
  {
   "cell_type": "code",
   "execution_count": null,
   "metadata": {
    "vscode": {
     "languageId": "r"
    }
   },
   "outputs": [],
   "source": [
    "#clase\n",
    "dtrain[ clase_ternaria=='BAJA+2' ,   clase:= 1]\n",
    "sum( dtrain$clase )"
   ]
  },
  {
   "cell_type": "markdown",
   "metadata": {},
   "source": [
    "Puedo eliminar columnas asignandoles el valor NULL"
   ]
  },
  {
   "cell_type": "code",
   "execution_count": null,
   "metadata": {
    "vscode": {
     "languageId": "r"
    }
   },
   "outputs": [],
   "source": [
    "#Borro una o varias columnas\n",
    "#dtrain[ ,  (kcampos_a_borrar) := NULL    ] "
   ]
  },
  {
   "cell_type": "code",
   "execution_count": null,
   "metadata": {
    "vscode": {
     "languageId": "r"
    }
   },
   "outputs": [],
   "source": [
    "#calculo la ganancia de incentivar cada caso\n",
    "dtrain[  , ganancia:= kFPGain ] #-1250\n",
    "dtrain[ clase_ternaria=='BAJA+2' ,   ganancia:= kTPGain] #48750\n",
    "sum( dtrain$ganancia )"
   ]
  },
  {
   "cell_type": "markdown",
   "metadata": {},
   "source": [
    "Puedo asignar valores a un dtrain \"filtrado\". En este caso imputo 0 en los NA"
   ]
  },
  {
   "cell_type": "code",
   "execution_count": null,
   "metadata": {
    "vscode": {
     "languageId": "r"
    }
   },
   "outputs": [],
   "source": [
    "#Puedo asignar valores a cualquier campo que cumpla con una condici. Ejemplo valores NA\n",
    "dtrain[is.na(dtrain)] <- 0\n",
    "\n",
    "# Resumen básico del dtrain\n",
    "summary( dtrain)"
   ]
  },
  {
   "cell_type": "code",
   "execution_count": null,
   "metadata": {
    "vscode": {
     "languageId": "r"
    }
   },
   "outputs": [],
   "source": [
    "#Resumen segregado por clase ternaria\n",
    "by(dtrain, dtrain$clase_ternaria, summary)"
   ]
  },
  {
   "cell_type": "markdown",
   "metadata": {},
   "source": [
    "## EDA\n"
   ]
  },
  {
   "cell_type": "code",
   "execution_count": null,
   "metadata": {
    "vscode": {
     "languageId": "r"
    }
   },
   "outputs": [],
   "source": [
    "hist(dtrain$cliente_edad)"
   ]
  },
  {
   "cell_type": "code",
   "execution_count": null,
   "metadata": {
    "vscode": {
     "languageId": "r"
    }
   },
   "outputs": [],
   "source": [
    "#Se comportan diferente?\n",
    "ftable(dtrain[ cliente_edad <=33, clase])"
   ]
  },
  {
   "cell_type": "code",
   "execution_count": null,
   "metadata": {
    "vscode": {
     "languageId": "r"
    }
   },
   "outputs": [],
   "source": [
    "ftable(dtrain[ cliente_edad  >33, clase])"
   ]
  },
  {
   "cell_type": "code",
   "execution_count": null,
   "metadata": {
    "vscode": {
     "languageId": "r"
    }
   },
   "outputs": [],
   "source": [
    "#Ganancia\n",
    "sum( dtrain[ cliente_edad <=33, ganancia] )"
   ]
  },
  {
   "cell_type": "code",
   "execution_count": null,
   "metadata": {
    "vscode": {
     "languageId": "r"
    }
   },
   "outputs": [],
   "source": [
    "#Lift\n",
    "(sum( dtrain[ cliente_edad <=33, clase]) / nrow( dtrain[ cliente_edad <=33, ] )) /  (sum( dtrain[, clase]) / nrow( dtrain ))"
   ]
  },
  {
   "cell_type": "code",
   "execution_count": null,
   "metadata": {
    "vscode": {
     "languageId": "r"
    }
   },
   "outputs": [],
   "source": [
    "#Ganancia\n",
    "sum( dtrain[ cliente_edad >33, ganancia] )\n"
   ]
  },
  {
   "cell_type": "code",
   "execution_count": null,
   "metadata": {
    "vscode": {
     "languageId": "r"
    }
   },
   "outputs": [],
   "source": [
    "#Lift\n",
    "(sum( dtrain[ cliente_edad >33, clase]) / nrow( dtrain[ cliente_edad >33, ] )) /  (sum( dtrain[, clase]) / nrow( dtrain ))"
   ]
  },
  {
   "cell_type": "code",
   "execution_count": null,
   "metadata": {
    "vscode": {
     "languageId": "r"
    }
   },
   "outputs": [],
   "source": [
    "#Corte por mcuentas_saldo\n",
    "hist(dtrain[ ,mcuentas_saldo] )\n",
    "boxplot(mcuentas_saldo  ~ clase_ternaria, data=dtrain)\n",
    "boxplot(mcuentas_saldo  ~ clase_ternaria, data=dtrain, outline=FALSE)"
   ]
  },
  {
   "cell_type": "code",
   "execution_count": null,
   "metadata": {
    "vscode": {
     "languageId": "r"
    }
   },
   "outputs": [],
   "source": [
    "ftable(dtrain[ mcuentas_saldo <= -120000, clase_ternaria])"
   ]
  },
  {
   "cell_type": "code",
   "execution_count": null,
   "metadata": {
    "vscode": {
     "languageId": "r"
    }
   },
   "outputs": [],
   "source": [
    "ftable(dtrain[ mcuentas_saldo >  -120000, clase_ternaria])"
   ]
  },
  {
   "cell_type": "code",
   "execution_count": null,
   "metadata": {
    "vscode": {
     "languageId": "r"
    }
   },
   "outputs": [],
   "source": [
    "sum( dtrain[ mcuentas_saldo <= -120000, ganancia] )"
   ]
  },
  {
   "cell_type": "code",
   "execution_count": null,
   "metadata": {
    "vscode": {
     "languageId": "r"
    }
   },
   "outputs": [],
   "source": [
    "sum( dtrain[ mcuentas_saldo > -120000, ganancia] )"
   ]
  },
  {
   "cell_type": "code",
   "execution_count": null,
   "metadata": {
    "vscode": {
     "languageId": "r"
    }
   },
   "outputs": [],
   "source": [
    "boxplot(Visa_mconsumototal  ~ clase_ternaria, data=dtrain, outline=FALSE)"
   ]
  },
  {
   "cell_type": "code",
   "execution_count": null,
   "metadata": {
    "vscode": {
     "languageId": "r"
    }
   },
   "outputs": [],
   "source": [
    "hist(dtrain$cliente_antiguedad)"
   ]
  },
  {
   "cell_type": "code",
   "execution_count": null,
   "metadata": {
    "tags": [],
    "vscode": {
     "languageId": "r"
    }
   },
   "outputs": [],
   "source": [
    "hist(dtrain$ccallcenter_transacciones)"
   ]
  },
  {
   "cell_type": "code",
   "execution_count": null,
   "metadata": {
    "vscode": {
     "languageId": "r"
    }
   },
   "outputs": [],
   "source": [
    "hist(dtrain$chomebanking_transacciones)"
   ]
  },
  {
   "cell_type": "code",
   "execution_count": null,
   "metadata": {
    "vscode": {
     "languageId": "r"
    }
   },
   "outputs": [],
   "source": [
    "ggplot(dtrain, aes(x=ccallcenter_transacciones, y=chomebanking_transacciones)) + # fill=name allow to automatically dedicate a color for each group\n",
    "        geom_point()+\n",
    "        scale_x_log10()+\n",
    "        scale_y_log10()\n"
   ]
  },
  {
   "cell_type": "code",
   "execution_count": null,
   "metadata": {
    "vscode": {
     "languageId": "r"
    }
   },
   "outputs": [],
   "source": [
    "ggplot(dtrain, aes(x=dtrain$Visa_mconsumototal))+ geom_histogram() + scale_x_log10()"
   ]
  },
  {
   "cell_type": "code",
   "execution_count": null,
   "metadata": {
    "vscode": {
     "languageId": "r"
    }
   },
   "outputs": [],
   "source": [
    "ggplot(dtrain, aes(x=dtrain$Master_mconsumototal))+ geom_histogram() + scale_x_log10()"
   ]
  },
  {
   "cell_type": "markdown",
   "metadata": {},
   "source": [
    "Determino correlaciones entre las variables y el objetivo. "
   ]
  },
  {
   "cell_type": "code",
   "execution_count": null,
   "metadata": {
    "vscode": {
     "languageId": "r"
    }
   },
   "outputs": [],
   "source": [
    "dtrain[ ,  (kcampos_a_borrar) := NULL    ] \n",
    "correlaciones <- abs(cor(dtrain[,-..kobjetivo],dtrain[,..kobjetivo]))"
   ]
  },
  {
   "cell_type": "code",
   "execution_count": null,
   "metadata": {
    "vscode": {
     "languageId": "r"
    }
   },
   "outputs": [],
   "source": [
    "correlaciones[order(-correlaciones[,1]),][0:20]"
   ]
  },
  {
   "cell_type": "code",
   "execution_count": null,
   "metadata": {
    "vscode": {
     "languageId": "r"
    }
   },
   "outputs": [],
   "source": [
    "library(ggplot2)\n",
    "\n",
    "for (feature in names(correlaciones[order(-correlaciones[,1]),][c(3,4,6,11)])) {\n",
    "    \n",
    "    \n",
    "    plot <- ggplot(dtrain, aes(x=as.factor(clase), y=get(feature), fill=as.factor(clase))) + # fill=name allow to automatically dedicate a color for each group\n",
    "      geom_boxplot(fill=\"slateblue\", alpha=0.2)+\n",
    "      geom_violin(alpha=0.2)+\n",
    "    ggtitle(feature)+\n",
    "        scale_y_log10()\n",
    "    print(plot)\n",
    "    \n",
    "}"
   ]
  },
  {
   "cell_type": "markdown",
   "metadata": {},
   "source": [
    "## Modelo básico\n",
    "Vamos a definir un modelo muy básico. La gente que no usa las tarjetas de crédito es candidata a darse de baja. Defino una variable como la suma de transacciones en ambas franquicias."
   ]
  },
  {
   "cell_type": "code",
   "execution_count": null,
   "metadata": {
    "vscode": {
     "languageId": "r"
    }
   },
   "outputs": [],
   "source": [
    "dtrain$TC_cactividad = dtrain$Visa_cconsumos + dtrain$Master_cconsumos \n",
    "\n",
    "# Most basic violin chart\n",
    "ggplot(dtrain, aes(x=as.factor(clase), y=TC_cactividad, fill=as.factor(clase))) + # fill=name allow to automatically dedicate a color for each group\n",
    "  geom_boxplot(fill=\"slateblue\", alpha=0.2)+\n",
    "  geom_violin(alpha = 0.2)+\n",
    "     ylim(0, 15)"
   ]
  },
  {
   "cell_type": "markdown",
   "metadata": {},
   "source": [
    "Genero la variable Predicted con 1 si no tiene movimientos. "
   ]
  },
  {
   "cell_type": "code",
   "execution_count": null,
   "metadata": {
    "vscode": {
     "languageId": "r"
    }
   },
   "outputs": [],
   "source": [
    "#Inputo missings\n",
    "dtrain[is.na(dtrain)] <- 0\n",
    "\n",
    "dtrain[, TC_cactividad := Visa_cconsumos + Master_cconsumos ]\n",
    "dtrain[ , Predicted  := as.integer(TC_cactividad < 1) ]\n"
   ]
  },
  {
   "cell_type": "markdown",
   "metadata": {},
   "source": [
    "Determino la curva ROC y Área bajo la curva"
   ]
  },
  {
   "cell_type": "code",
   "execution_count": null,
   "metadata": {
    "vscode": {
     "languageId": "r"
    }
   },
   "outputs": [],
   "source": [
    "#Calculo las metricas\n",
    "pred <- prediction(dtrain$Predicted, dtrain$clase)\n",
    "\n",
    "#Calculo las metricas\n",
    "perf <- performance(pred, measure = \"tpr\", x.measure = \"fpr\")\n",
    "\n",
    "#Grafico la ROC\n",
    "plot(perf, col=rainbow(10))\n",
    "\n",
    "#Determino AUC\n",
    "performance( pred,\"auc\")@y.values\n"
   ]
  },
  {
   "cell_type": "markdown",
   "metadata": {},
   "source": [
    "Cuanto dinero vale el modelo para el banco?"
   ]
  },
  {
   "cell_type": "code",
   "execution_count": null,
   "metadata": {
    "vscode": {
     "languageId": "r"
    }
   },
   "outputs": [],
   "source": [
    "#Calculo la ganancia\n",
    "sum( dtrain[ dtrain$Predicted==1, ganancia] )"
   ]
  },
  {
   "cell_type": "code",
   "execution_count": null,
   "metadata": {
    "vscode": {
     "languageId": "r"
    }
   },
   "outputs": [],
   "source": [
    "#TP\n",
    "sum(dtrain$Predicted*dtrain[,..kobjetivo])"
   ]
  },
  {
   "cell_type": "code",
   "execution_count": null,
   "metadata": {
    "vscode": {
     "languageId": "r"
    }
   },
   "outputs": [],
   "source": [
    "#Incentivados Totales\n",
    "sum(dtrain$Predicted)"
   ]
  },
  {
   "cell_type": "markdown",
   "metadata": {},
   "source": [
    "Corremos el modelo para el dataset del que no conocemos la clase"
   ]
  },
  {
   "cell_type": "code",
   "execution_count": null,
   "metadata": {
    "vscode": {
     "languageId": "r"
    }
   },
   "outputs": [],
   "source": [
    "#Identifico casos a incentivar en el modelo definido\n",
    "dapply[, TC_cactividad := Visa_cconsumos + Master_cconsumos ]\n",
    "dapply[ , Predicted  := as.integer(TC_cactividad < 1) ]\n",
    "\n",
    "#Inputo missings\n",
    "dapply[is.na(dapply)] <- 0\n",
    "\n",
    "#Grabo prediccion en salida\n",
    "fwrite( dapply[ , list(numero_de_cliente, Predicted) ], #solo los campos para Kaggle\n",
    "        file= \"./exp/EDA/1TRX.csv\", \n",
    "        sep= \",\" )"
   ]
  },
  {
   "cell_type": "markdown",
   "metadata": {},
   "source": [
    "Modelo alternativo con regla mas amplia. Incentivo todos aquellos que tienen menos de tres trx"
   ]
  },
  {
   "cell_type": "code",
   "execution_count": null,
   "metadata": {
    "vscode": {
     "languageId": "r"
    }
   },
   "outputs": [],
   "source": [
    "dtrain[ , Predicted  := as.integer(TC_cactividad < 3) ]\n",
    "pred <- prediction(dtrain$Predicted, dtrain$clase)\n",
    "\n",
    "#Calculo las metricas\n",
    "perf <- performance(pred, measure = \"tpr\", x.measure = \"fpr\")\n",
    "\n",
    "#Grafico la ROC\n",
    "plot(perf, col=rainbow(10))\n",
    "\n",
    "#Determino AUC\n",
    "performance( pred,\"auc\")@y.values\n",
    "\n",
    "#Calculo la ganancia\n",
    "print(paste(\"La Ganancia es:\", sum( dtrain[ dtrain$Predicted==1, ganancia] )))"
   ]
  },
  {
   "cell_type": "code",
   "execution_count": null,
   "metadata": {
    "vscode": {
     "languageId": "r"
    }
   },
   "outputs": [],
   "source": [
    "#Identifico casos a incentivar en el modelo definido\n",
    "dapply[, TC_cactividad := Visa_cconsumos + Master_cconsumos ]\n",
    "dapply[ , Predicted  := as.integer(TC_cactividad < 3) ]\n",
    "\n",
    "#Grabo prediccion en salida\n",
    "fwrite( dapply[ , list(numero_de_cliente, Predicted) ], #solo los campos para Kaggle\n",
    "        file= \"./exp/EDA/3TRX.csv\", \n",
    "        sep= \",\" )\n"
   ]
  },
  {
   "cell_type": "markdown",
   "metadata": {},
   "source": [
    "Modelo alternativo con regla mas estricta. Incentivo todos aquellos que no tienen trx pero si en el trimestre"
   ]
  },
  {
   "cell_type": "code",
   "execution_count": null,
   "metadata": {
    "vscode": {
     "languageId": "r"
    }
   },
   "outputs": [],
   "source": [
    "dtrain[ , Predicted  :=  as.integer((mcuentas_saldo < -1000)\n",
    "                               & (ctrx_quarter < 12)\n",
    "                              ) ]\n",
    "\n",
    "pred <- prediction(dtrain$Predicted, dtrain$clase)\n",
    "\n",
    "perf <- performance(pred, measure = \"tpr\", x.measure = \"fpr\")\n",
    "plot(perf, col=rainbow(12))\n",
    "performance( pred,\"auc\")@y.values\n",
    "\n",
    "#Calculo la ganancia\n",
    "print(paste(\"La Ganancia es:\", sum( dtrain[ dtrain$Predicted==1, ganancia] )))"
   ]
  },
  {
   "cell_type": "code",
   "execution_count": null,
   "metadata": {
    "vscode": {
     "languageId": "r"
    }
   },
   "outputs": [],
   "source": [
    "#Identifico casos a incentivar en el modelo definido\n",
    "dapply[ , Predicted  :=  as.integer((mcuentas_saldo < -1000) \n",
    "                               & (ctrx_quarter < 10)\n",
    "                              ) ]\n",
    "\n",
    "#Grabo prediccion en salida\n",
    "fwrite( dapply[ , list(numero_de_cliente, Predicted) ], #solo los campos para Kaggle\n",
    "        file= \"./exp/EDA/Basico_restrictivo.csv\", \n",
    "        sep= \",\" )\n",
    "\n",
    "\n"
   ]
  },
  {
   "cell_type": "code",
   "execution_count": null,
   "metadata": {},
   "outputs": [],
   "source": []
  },
  {
   "cell_type": "code",
   "execution_count": null,
   "metadata": {},
   "outputs": [],
   "source": []
  }
 ],
 "metadata": {
  "kernelspec": {
   "display_name": "R",
   "language": "R",
   "name": "ir"
  },
  "language_info": {
   "codemirror_mode": "r",
   "file_extension": ".r",
   "mimetype": "text/x-r-source",
   "name": "R",
   "pygments_lexer": "r",
   "version": "4.1.3"
  }
 },
 "nbformat": 4,
 "nbformat_minor": 4
}
